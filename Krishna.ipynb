{
  "metadata": {
    "language_info": {
      "codemirror_mode": {
        "name": "python",
        "version": 3
      },
      "file_extension": ".py",
      "mimetype": "text/x-python",
      "name": "python",
      "nbconvert_exporter": "python",
      "pygments_lexer": "ipython3",
      "version": "3.8"
    },
    "kernelspec": {
      "name": "python",
      "display_name": "Python (Pyodide)",
      "language": "python"
    }
  },
  "nbformat_minor": 4,
  "nbformat": 4,
  "cells": [
    {
      "cell_type": "code",
      "source": "#import the libraries first\nimport pandas as pn\nimport numpy as nmp\nimport matplotlib.pyplot as mtplt\n#Chocolate bar reviews dataset read\ndf=pn.read_csv('data.csv')",
      "metadata": {
        "trusted": true
      },
      "execution_count": 1,
      "outputs": []
    },
    {
      "cell_type": "code",
      "source": "print(df)",
      "metadata": {
        "trusted": true
      },
      "execution_count": 2,
      "outputs": [
        {
          "name": "stdout",
          "text": "        id manufacturer company_location  year_reviewed         bean_origin  \\\n0     2454         5150           U.S.A.           2019            Tanzania   \n1     2458         5150           U.S.A.           2019  Dominican Republic   \n2     2454         5150           U.S.A.           2019          Madagascar   \n3     2542         5150           U.S.A.           2021                Fiji   \n4     2546         5150           U.S.A.           2021           Venezuela   \n...    ...          ...              ...            ...                 ...   \n2525  1205       Zotter          Austria           2014               Blend   \n2526  1996       Zotter          Austria           2017            Colombia   \n2527  2036       Zotter          Austria           2018               Blend   \n2528  2170       Zotter          Austria           2018               Congo   \n2529  2170       Zotter          Austria           2018              Belize   \n\n                             bar_name  cocoa_percent  num_ingredients  \\\n0               Kokoa Kamili, batch 1           76.0              3.0   \n1                     Zorzal, batch 1           76.0              3.0   \n2              Bejofo Estate, batch 1           76.0              3.0   \n3               Matasawalevu, batch 1           68.0              3.0   \n4               Sur del Lago, batch 1           72.0              3.0   \n...                               ...            ...              ...   \n2525                              Raw           80.0              4.0   \n2526                 APROCAFA, Acandi           75.0              3.0   \n2527  Dry Aged, 30 yr Anniversary bar           75.0              3.0   \n2528            Mountains of the Moon           70.0              3.0   \n2529                         Maya Mtn           72.0              3.0   \n\n     ingredients                             review  rating  \n0          B,S,C          rich cocoa, fatty, bready    3.25  \n1          B,S,C             cocoa, vegetal, savory    3.50  \n2          B,S,C       cocoa, blackberry, full body    3.75  \n3          B,S,C                chewy, off, rubbery    3.00  \n4          B,S,C  fatty, earthy, moss, nutty,chalky    3.00  \n...          ...                                ...     ...  \n2525   B,S*,C,Sa             waxy, cloying, vegetal    2.75  \n2526       B,S,C          strong nutty, marshmallow    3.75  \n2527       B,S,C               fatty, earthy, cocoa    3.00  \n2528       B,S,C       fatty, mild nuts, mild fruit    3.25  \n2529       B,S,C          muted, roasty, accessible    3.50  \n\n[2530 rows x 11 columns]\n",
          "output_type": "stream"
        }
      ]
    },
    {
      "cell_type": "code",
      "source": "#to get the schema\ndf.describe()",
      "metadata": {
        "trusted": true
      },
      "execution_count": 3,
      "outputs": [
        {
          "execution_count": 3,
          "output_type": "execute_result",
          "data": {
            "text/plain": "                id  year_reviewed  cocoa_percent  num_ingredients       rating\ncount  2530.000000    2530.000000    2530.000000      2443.000000  2530.000000\nmean   1429.800791    2014.374308      71.639723         3.041343     3.196344\nstd     757.648556       3.968267       5.616724         0.913728     0.445321\nmin       5.000000    2006.000000      42.000000         1.000000     1.000000\n25%     802.000000    2012.000000      70.000000         2.000000     3.000000\n50%    1454.000000    2015.000000      70.000000         3.000000     3.250000\n75%    2079.000000    2018.000000      74.000000         4.000000     3.500000\nmax    2712.000000    2021.000000     100.000000         6.000000     4.000000",
            "text/html": "<div>\n<style scoped>\n    .dataframe tbody tr th:only-of-type {\n        vertical-align: middle;\n    }\n\n    .dataframe tbody tr th {\n        vertical-align: top;\n    }\n\n    .dataframe thead th {\n        text-align: right;\n    }\n</style>\n<table border=\"1\" class=\"dataframe\">\n  <thead>\n    <tr style=\"text-align: right;\">\n      <th></th>\n      <th>id</th>\n      <th>year_reviewed</th>\n      <th>cocoa_percent</th>\n      <th>num_ingredients</th>\n      <th>rating</th>\n    </tr>\n  </thead>\n  <tbody>\n    <tr>\n      <th>count</th>\n      <td>2530.000000</td>\n      <td>2530.000000</td>\n      <td>2530.000000</td>\n      <td>2443.000000</td>\n      <td>2530.000000</td>\n    </tr>\n    <tr>\n      <th>mean</th>\n      <td>1429.800791</td>\n      <td>2014.374308</td>\n      <td>71.639723</td>\n      <td>3.041343</td>\n      <td>3.196344</td>\n    </tr>\n    <tr>\n      <th>std</th>\n      <td>757.648556</td>\n      <td>3.968267</td>\n      <td>5.616724</td>\n      <td>0.913728</td>\n      <td>0.445321</td>\n    </tr>\n    <tr>\n      <th>min</th>\n      <td>5.000000</td>\n      <td>2006.000000</td>\n      <td>42.000000</td>\n      <td>1.000000</td>\n      <td>1.000000</td>\n    </tr>\n    <tr>\n      <th>25%</th>\n      <td>802.000000</td>\n      <td>2012.000000</td>\n      <td>70.000000</td>\n      <td>2.000000</td>\n      <td>3.000000</td>\n    </tr>\n    <tr>\n      <th>50%</th>\n      <td>1454.000000</td>\n      <td>2015.000000</td>\n      <td>70.000000</td>\n      <td>3.000000</td>\n      <td>3.250000</td>\n    </tr>\n    <tr>\n      <th>75%</th>\n      <td>2079.000000</td>\n      <td>2018.000000</td>\n      <td>74.000000</td>\n      <td>4.000000</td>\n      <td>3.500000</td>\n    </tr>\n    <tr>\n      <th>max</th>\n      <td>2712.000000</td>\n      <td>2021.000000</td>\n      <td>100.000000</td>\n      <td>6.000000</td>\n      <td>4.000000</td>\n    </tr>\n  </tbody>\n</table>\n</div>"
          },
          "metadata": {}
        }
      ]
    },
    {
      "cell_type": "code",
      "source": "df.info()",
      "metadata": {
        "trusted": true
      },
      "execution_count": 4,
      "outputs": [
        {
          "name": "stdout",
          "text": "<class 'pandas.core.frame.DataFrame'>\nRangeIndex: 2530 entries, 0 to 2529\nData columns (total 11 columns):\n #   Column            Non-Null Count  Dtype  \n---  ------            --------------  -----  \n 0   id                2530 non-null   int64  \n 1   manufacturer      2530 non-null   object \n 2   company_location  2530 non-null   object \n 3   year_reviewed     2530 non-null   int64  \n 4   bean_origin       2530 non-null   object \n 5   bar_name          2530 non-null   object \n 6   cocoa_percent     2530 non-null   float64\n 7   num_ingredients   2443 non-null   float64\n 8   ingredients       2443 non-null   object \n 9   review            2530 non-null   object \n 10  rating            2530 non-null   float64\ndtypes: float64(3), int64(2), object(6)\nmemory usage: 158.2+ KB\n",
          "output_type": "stream"
        }
      ]
    },
    {
      "cell_type": "code",
      "source": "#displays first five rows of the dataset\ndf.head()",
      "metadata": {
        "trusted": true
      },
      "execution_count": 5,
      "outputs": [
        {
          "execution_count": 5,
          "output_type": "execute_result",
          "data": {
            "text/plain": "     id manufacturer company_location  year_reviewed         bean_origin  \\\n0  2454         5150           U.S.A.           2019            Tanzania   \n1  2458         5150           U.S.A.           2019  Dominican Republic   \n2  2454         5150           U.S.A.           2019          Madagascar   \n3  2542         5150           U.S.A.           2021                Fiji   \n4  2546         5150           U.S.A.           2021           Venezuela   \n\n                 bar_name  cocoa_percent  num_ingredients ingredients  \\\n0   Kokoa Kamili, batch 1           76.0              3.0       B,S,C   \n1         Zorzal, batch 1           76.0              3.0       B,S,C   \n2  Bejofo Estate, batch 1           76.0              3.0       B,S,C   \n3   Matasawalevu, batch 1           68.0              3.0       B,S,C   \n4   Sur del Lago, batch 1           72.0              3.0       B,S,C   \n\n                              review  rating  \n0          rich cocoa, fatty, bready    3.25  \n1             cocoa, vegetal, savory    3.50  \n2       cocoa, blackberry, full body    3.75  \n3                chewy, off, rubbery    3.00  \n4  fatty, earthy, moss, nutty,chalky    3.00  ",
            "text/html": "<div>\n<style scoped>\n    .dataframe tbody tr th:only-of-type {\n        vertical-align: middle;\n    }\n\n    .dataframe tbody tr th {\n        vertical-align: top;\n    }\n\n    .dataframe thead th {\n        text-align: right;\n    }\n</style>\n<table border=\"1\" class=\"dataframe\">\n  <thead>\n    <tr style=\"text-align: right;\">\n      <th></th>\n      <th>id</th>\n      <th>manufacturer</th>\n      <th>company_location</th>\n      <th>year_reviewed</th>\n      <th>bean_origin</th>\n      <th>bar_name</th>\n      <th>cocoa_percent</th>\n      <th>num_ingredients</th>\n      <th>ingredients</th>\n      <th>review</th>\n      <th>rating</th>\n    </tr>\n  </thead>\n  <tbody>\n    <tr>\n      <th>0</th>\n      <td>2454</td>\n      <td>5150</td>\n      <td>U.S.A.</td>\n      <td>2019</td>\n      <td>Tanzania</td>\n      <td>Kokoa Kamili, batch 1</td>\n      <td>76.0</td>\n      <td>3.0</td>\n      <td>B,S,C</td>\n      <td>rich cocoa, fatty, bready</td>\n      <td>3.25</td>\n    </tr>\n    <tr>\n      <th>1</th>\n      <td>2458</td>\n      <td>5150</td>\n      <td>U.S.A.</td>\n      <td>2019</td>\n      <td>Dominican Republic</td>\n      <td>Zorzal, batch 1</td>\n      <td>76.0</td>\n      <td>3.0</td>\n      <td>B,S,C</td>\n      <td>cocoa, vegetal, savory</td>\n      <td>3.50</td>\n    </tr>\n    <tr>\n      <th>2</th>\n      <td>2454</td>\n      <td>5150</td>\n      <td>U.S.A.</td>\n      <td>2019</td>\n      <td>Madagascar</td>\n      <td>Bejofo Estate, batch 1</td>\n      <td>76.0</td>\n      <td>3.0</td>\n      <td>B,S,C</td>\n      <td>cocoa, blackberry, full body</td>\n      <td>3.75</td>\n    </tr>\n    <tr>\n      <th>3</th>\n      <td>2542</td>\n      <td>5150</td>\n      <td>U.S.A.</td>\n      <td>2021</td>\n      <td>Fiji</td>\n      <td>Matasawalevu, batch 1</td>\n      <td>68.0</td>\n      <td>3.0</td>\n      <td>B,S,C</td>\n      <td>chewy, off, rubbery</td>\n      <td>3.00</td>\n    </tr>\n    <tr>\n      <th>4</th>\n      <td>2546</td>\n      <td>5150</td>\n      <td>U.S.A.</td>\n      <td>2021</td>\n      <td>Venezuela</td>\n      <td>Sur del Lago, batch 1</td>\n      <td>72.0</td>\n      <td>3.0</td>\n      <td>B,S,C</td>\n      <td>fatty, earthy, moss, nutty,chalky</td>\n      <td>3.00</td>\n    </tr>\n  </tbody>\n</table>\n</div>"
          },
          "metadata": {}
        }
      ]
    },
    {
      "cell_type": "code",
      "source": "df.isnull().sum()",
      "metadata": {
        "trusted": true
      },
      "execution_count": 7,
      "outputs": [
        {
          "execution_count": 7,
          "output_type": "execute_result",
          "data": {
            "text/plain": "id                   0\nmanufacturer         0\ncompany_location     0\nyear_reviewed        0\nbean_origin          0\nbar_name             0\ncocoa_percent        0\nnum_ingredients     87\ningredients         87\nreview               0\nrating               0\ndtype: int64"
          },
          "metadata": {}
        }
      ]
    },
    {
      "cell_type": "code",
      "source": "#to replace the null values in ingredients\ndata1=df.fillna(method=\"ffill\")",
      "metadata": {
        "trusted": true
      },
      "execution_count": 8,
      "outputs": []
    },
    {
      "cell_type": "code",
      "source": "data1.isnull().sum()",
      "metadata": {
        "trusted": true
      },
      "execution_count": 9,
      "outputs": [
        {
          "execution_count": 9,
          "output_type": "execute_result",
          "data": {
            "text/plain": "id                  0\nmanufacturer        0\ncompany_location    0\nyear_reviewed       0\nbean_origin         0\nbar_name            0\ncocoa_percent       0\nnum_ingredients     0\ningredients         0\nreview              0\nrating              0\ndtype: int64"
          },
          "metadata": {}
        }
      ]
    },
    {
      "cell_type": "code",
      "source": "#for reduction\ncols=['manufacturer','bean_origin','num_ingredients','review']\ndf = df.drop(cols, axis=1)\n",
      "metadata": {
        "trusted": true
      },
      "execution_count": 10,
      "outputs": []
    },
    {
      "cell_type": "code",
      "source": "#lets check if its cleared\ndf.head()",
      "metadata": {
        "trusted": true
      },
      "execution_count": 11,
      "outputs": [
        {
          "execution_count": 11,
          "output_type": "execute_result",
          "data": {
            "text/plain": "     id company_location  year_reviewed                bar_name  \\\n0  2454           U.S.A.           2019   Kokoa Kamili, batch 1   \n1  2458           U.S.A.           2019         Zorzal, batch 1   \n2  2454           U.S.A.           2019  Bejofo Estate, batch 1   \n3  2542           U.S.A.           2021   Matasawalevu, batch 1   \n4  2546           U.S.A.           2021   Sur del Lago, batch 1   \n\n   cocoa_percent ingredients  rating  \n0           76.0       B,S,C    3.25  \n1           76.0       B,S,C    3.50  \n2           76.0       B,S,C    3.75  \n3           68.0       B,S,C    3.00  \n4           72.0       B,S,C    3.00  ",
            "text/html": "<div>\n<style scoped>\n    .dataframe tbody tr th:only-of-type {\n        vertical-align: middle;\n    }\n\n    .dataframe tbody tr th {\n        vertical-align: top;\n    }\n\n    .dataframe thead th {\n        text-align: right;\n    }\n</style>\n<table border=\"1\" class=\"dataframe\">\n  <thead>\n    <tr style=\"text-align: right;\">\n      <th></th>\n      <th>id</th>\n      <th>company_location</th>\n      <th>year_reviewed</th>\n      <th>bar_name</th>\n      <th>cocoa_percent</th>\n      <th>ingredients</th>\n      <th>rating</th>\n    </tr>\n  </thead>\n  <tbody>\n    <tr>\n      <th>0</th>\n      <td>2454</td>\n      <td>U.S.A.</td>\n      <td>2019</td>\n      <td>Kokoa Kamili, batch 1</td>\n      <td>76.0</td>\n      <td>B,S,C</td>\n      <td>3.25</td>\n    </tr>\n    <tr>\n      <th>1</th>\n      <td>2458</td>\n      <td>U.S.A.</td>\n      <td>2019</td>\n      <td>Zorzal, batch 1</td>\n      <td>76.0</td>\n      <td>B,S,C</td>\n      <td>3.50</td>\n    </tr>\n    <tr>\n      <th>2</th>\n      <td>2454</td>\n      <td>U.S.A.</td>\n      <td>2019</td>\n      <td>Bejofo Estate, batch 1</td>\n      <td>76.0</td>\n      <td>B,S,C</td>\n      <td>3.75</td>\n    </tr>\n    <tr>\n      <th>3</th>\n      <td>2542</td>\n      <td>U.S.A.</td>\n      <td>2021</td>\n      <td>Matasawalevu, batch 1</td>\n      <td>68.0</td>\n      <td>B,S,C</td>\n      <td>3.00</td>\n    </tr>\n    <tr>\n      <th>4</th>\n      <td>2546</td>\n      <td>U.S.A.</td>\n      <td>2021</td>\n      <td>Sur del Lago, batch 1</td>\n      <td>72.0</td>\n      <td>B,S,C</td>\n      <td>3.00</td>\n    </tr>\n  </tbody>\n</table>\n</div>"
          },
          "metadata": {}
        }
      ]
    },
    {
      "cell_type": "code",
      "source": "data1.head()",
      "metadata": {
        "trusted": true
      },
      "execution_count": 12,
      "outputs": [
        {
          "execution_count": 12,
          "output_type": "execute_result",
          "data": {
            "text/plain": "     id manufacturer company_location  year_reviewed         bean_origin  \\\n0  2454         5150           U.S.A.           2019            Tanzania   \n1  2458         5150           U.S.A.           2019  Dominican Republic   \n2  2454         5150           U.S.A.           2019          Madagascar   \n3  2542         5150           U.S.A.           2021                Fiji   \n4  2546         5150           U.S.A.           2021           Venezuela   \n\n                 bar_name  cocoa_percent  num_ingredients ingredients  \\\n0   Kokoa Kamili, batch 1           76.0              3.0       B,S,C   \n1         Zorzal, batch 1           76.0              3.0       B,S,C   \n2  Bejofo Estate, batch 1           76.0              3.0       B,S,C   \n3   Matasawalevu, batch 1           68.0              3.0       B,S,C   \n4   Sur del Lago, batch 1           72.0              3.0       B,S,C   \n\n                              review  rating  \n0          rich cocoa, fatty, bready    3.25  \n1             cocoa, vegetal, savory    3.50  \n2       cocoa, blackberry, full body    3.75  \n3                chewy, off, rubbery    3.00  \n4  fatty, earthy, moss, nutty,chalky    3.00  ",
            "text/html": "<div>\n<style scoped>\n    .dataframe tbody tr th:only-of-type {\n        vertical-align: middle;\n    }\n\n    .dataframe tbody tr th {\n        vertical-align: top;\n    }\n\n    .dataframe thead th {\n        text-align: right;\n    }\n</style>\n<table border=\"1\" class=\"dataframe\">\n  <thead>\n    <tr style=\"text-align: right;\">\n      <th></th>\n      <th>id</th>\n      <th>manufacturer</th>\n      <th>company_location</th>\n      <th>year_reviewed</th>\n      <th>bean_origin</th>\n      <th>bar_name</th>\n      <th>cocoa_percent</th>\n      <th>num_ingredients</th>\n      <th>ingredients</th>\n      <th>review</th>\n      <th>rating</th>\n    </tr>\n  </thead>\n  <tbody>\n    <tr>\n      <th>0</th>\n      <td>2454</td>\n      <td>5150</td>\n      <td>U.S.A.</td>\n      <td>2019</td>\n      <td>Tanzania</td>\n      <td>Kokoa Kamili, batch 1</td>\n      <td>76.0</td>\n      <td>3.0</td>\n      <td>B,S,C</td>\n      <td>rich cocoa, fatty, bready</td>\n      <td>3.25</td>\n    </tr>\n    <tr>\n      <th>1</th>\n      <td>2458</td>\n      <td>5150</td>\n      <td>U.S.A.</td>\n      <td>2019</td>\n      <td>Dominican Republic</td>\n      <td>Zorzal, batch 1</td>\n      <td>76.0</td>\n      <td>3.0</td>\n      <td>B,S,C</td>\n      <td>cocoa, vegetal, savory</td>\n      <td>3.50</td>\n    </tr>\n    <tr>\n      <th>2</th>\n      <td>2454</td>\n      <td>5150</td>\n      <td>U.S.A.</td>\n      <td>2019</td>\n      <td>Madagascar</td>\n      <td>Bejofo Estate, batch 1</td>\n      <td>76.0</td>\n      <td>3.0</td>\n      <td>B,S,C</td>\n      <td>cocoa, blackberry, full body</td>\n      <td>3.75</td>\n    </tr>\n    <tr>\n      <th>3</th>\n      <td>2542</td>\n      <td>5150</td>\n      <td>U.S.A.</td>\n      <td>2021</td>\n      <td>Fiji</td>\n      <td>Matasawalevu, batch 1</td>\n      <td>68.0</td>\n      <td>3.0</td>\n      <td>B,S,C</td>\n      <td>chewy, off, rubbery</td>\n      <td>3.00</td>\n    </tr>\n    <tr>\n      <th>4</th>\n      <td>2546</td>\n      <td>5150</td>\n      <td>U.S.A.</td>\n      <td>2021</td>\n      <td>Venezuela</td>\n      <td>Sur del Lago, batch 1</td>\n      <td>72.0</td>\n      <td>3.0</td>\n      <td>B,S,C</td>\n      <td>fatty, earthy, moss, nutty,chalky</td>\n      <td>3.00</td>\n    </tr>\n  </tbody>\n</table>\n</div>"
          },
          "metadata": {}
        }
      ]
    },
    {
      "cell_type": "code",
      "source": "dummy=pn.get_dummies(data1['year_reviewed'])\ndummy",
      "metadata": {
        "trusted": true
      },
      "execution_count": 13,
      "outputs": [
        {
          "execution_count": 13,
          "output_type": "execute_result",
          "data": {
            "text/plain": "      2006  2007  2008  2009  2010  2011  2012  2013  2014  2015  2016  2017  \\\n0        0     0     0     0     0     0     0     0     0     0     0     0   \n1        0     0     0     0     0     0     0     0     0     0     0     0   \n2        0     0     0     0     0     0     0     0     0     0     0     0   \n3        0     0     0     0     0     0     0     0     0     0     0     0   \n4        0     0     0     0     0     0     0     0     0     0     0     0   \n...    ...   ...   ...   ...   ...   ...   ...   ...   ...   ...   ...   ...   \n2525     0     0     0     0     0     0     0     0     1     0     0     0   \n2526     0     0     0     0     0     0     0     0     0     0     0     1   \n2527     0     0     0     0     0     0     0     0     0     0     0     0   \n2528     0     0     0     0     0     0     0     0     0     0     0     0   \n2529     0     0     0     0     0     0     0     0     0     0     0     0   \n\n      2018  2019  2020  2021  \n0        0     1     0     0  \n1        0     1     0     0  \n2        0     1     0     0  \n3        0     0     0     1  \n4        0     0     0     1  \n...    ...   ...   ...   ...  \n2525     0     0     0     0  \n2526     0     0     0     0  \n2527     1     0     0     0  \n2528     1     0     0     0  \n2529     1     0     0     0  \n\n[2530 rows x 16 columns]",
            "text/html": "<div>\n<style scoped>\n    .dataframe tbody tr th:only-of-type {\n        vertical-align: middle;\n    }\n\n    .dataframe tbody tr th {\n        vertical-align: top;\n    }\n\n    .dataframe thead th {\n        text-align: right;\n    }\n</style>\n<table border=\"1\" class=\"dataframe\">\n  <thead>\n    <tr style=\"text-align: right;\">\n      <th></th>\n      <th>2006</th>\n      <th>2007</th>\n      <th>2008</th>\n      <th>2009</th>\n      <th>2010</th>\n      <th>2011</th>\n      <th>2012</th>\n      <th>2013</th>\n      <th>2014</th>\n      <th>2015</th>\n      <th>2016</th>\n      <th>2017</th>\n      <th>2018</th>\n      <th>2019</th>\n      <th>2020</th>\n      <th>2021</th>\n    </tr>\n  </thead>\n  <tbody>\n    <tr>\n      <th>0</th>\n      <td>0</td>\n      <td>0</td>\n      <td>0</td>\n      <td>0</td>\n      <td>0</td>\n      <td>0</td>\n      <td>0</td>\n      <td>0</td>\n      <td>0</td>\n      <td>0</td>\n      <td>0</td>\n      <td>0</td>\n      <td>0</td>\n      <td>1</td>\n      <td>0</td>\n      <td>0</td>\n    </tr>\n    <tr>\n      <th>1</th>\n      <td>0</td>\n      <td>0</td>\n      <td>0</td>\n      <td>0</td>\n      <td>0</td>\n      <td>0</td>\n      <td>0</td>\n      <td>0</td>\n      <td>0</td>\n      <td>0</td>\n      <td>0</td>\n      <td>0</td>\n      <td>0</td>\n      <td>1</td>\n      <td>0</td>\n      <td>0</td>\n    </tr>\n    <tr>\n      <th>2</th>\n      <td>0</td>\n      <td>0</td>\n      <td>0</td>\n      <td>0</td>\n      <td>0</td>\n      <td>0</td>\n      <td>0</td>\n      <td>0</td>\n      <td>0</td>\n      <td>0</td>\n      <td>0</td>\n      <td>0</td>\n      <td>0</td>\n      <td>1</td>\n      <td>0</td>\n      <td>0</td>\n    </tr>\n    <tr>\n      <th>3</th>\n      <td>0</td>\n      <td>0</td>\n      <td>0</td>\n      <td>0</td>\n      <td>0</td>\n      <td>0</td>\n      <td>0</td>\n      <td>0</td>\n      <td>0</td>\n      <td>0</td>\n      <td>0</td>\n      <td>0</td>\n      <td>0</td>\n      <td>0</td>\n      <td>0</td>\n      <td>1</td>\n    </tr>\n    <tr>\n      <th>4</th>\n      <td>0</td>\n      <td>0</td>\n      <td>0</td>\n      <td>0</td>\n      <td>0</td>\n      <td>0</td>\n      <td>0</td>\n      <td>0</td>\n      <td>0</td>\n      <td>0</td>\n      <td>0</td>\n      <td>0</td>\n      <td>0</td>\n      <td>0</td>\n      <td>0</td>\n      <td>1</td>\n    </tr>\n    <tr>\n      <th>...</th>\n      <td>...</td>\n      <td>...</td>\n      <td>...</td>\n      <td>...</td>\n      <td>...</td>\n      <td>...</td>\n      <td>...</td>\n      <td>...</td>\n      <td>...</td>\n      <td>...</td>\n      <td>...</td>\n      <td>...</td>\n      <td>...</td>\n      <td>...</td>\n      <td>...</td>\n      <td>...</td>\n    </tr>\n    <tr>\n      <th>2525</th>\n      <td>0</td>\n      <td>0</td>\n      <td>0</td>\n      <td>0</td>\n      <td>0</td>\n      <td>0</td>\n      <td>0</td>\n      <td>0</td>\n      <td>1</td>\n      <td>0</td>\n      <td>0</td>\n      <td>0</td>\n      <td>0</td>\n      <td>0</td>\n      <td>0</td>\n      <td>0</td>\n    </tr>\n    <tr>\n      <th>2526</th>\n      <td>0</td>\n      <td>0</td>\n      <td>0</td>\n      <td>0</td>\n      <td>0</td>\n      <td>0</td>\n      <td>0</td>\n      <td>0</td>\n      <td>0</td>\n      <td>0</td>\n      <td>0</td>\n      <td>1</td>\n      <td>0</td>\n      <td>0</td>\n      <td>0</td>\n      <td>0</td>\n    </tr>\n    <tr>\n      <th>2527</th>\n      <td>0</td>\n      <td>0</td>\n      <td>0</td>\n      <td>0</td>\n      <td>0</td>\n      <td>0</td>\n      <td>0</td>\n      <td>0</td>\n      <td>0</td>\n      <td>0</td>\n      <td>0</td>\n      <td>0</td>\n      <td>1</td>\n      <td>0</td>\n      <td>0</td>\n      <td>0</td>\n    </tr>\n    <tr>\n      <th>2528</th>\n      <td>0</td>\n      <td>0</td>\n      <td>0</td>\n      <td>0</td>\n      <td>0</td>\n      <td>0</td>\n      <td>0</td>\n      <td>0</td>\n      <td>0</td>\n      <td>0</td>\n      <td>0</td>\n      <td>0</td>\n      <td>1</td>\n      <td>0</td>\n      <td>0</td>\n      <td>0</td>\n    </tr>\n    <tr>\n      <th>2529</th>\n      <td>0</td>\n      <td>0</td>\n      <td>0</td>\n      <td>0</td>\n      <td>0</td>\n      <td>0</td>\n      <td>0</td>\n      <td>0</td>\n      <td>0</td>\n      <td>0</td>\n      <td>0</td>\n      <td>0</td>\n      <td>1</td>\n      <td>0</td>\n      <td>0</td>\n      <td>0</td>\n    </tr>\n  </tbody>\n</table>\n<p>2530 rows × 16 columns</p>\n</div>"
          },
          "metadata": {}
        }
      ]
    },
    {
      "cell_type": "code",
      "source": "# To plot histogram\ndf.hist()",
      "metadata": {
        "trusted": true
      },
      "execution_count": 14,
      "outputs": [
        {
          "execution_count": 14,
          "output_type": "execute_result",
          "data": {
            "text/plain": "array([[<AxesSubplot:title={'center':'id'}>,\n        <AxesSubplot:title={'center':'year_reviewed'}>],\n       [<AxesSubplot:title={'center':'cocoa_percent'}>,\n        <AxesSubplot:title={'center':'rating'}>]], dtype=object)"
          },
          "metadata": {}
        }
      ]
    },
    {
      "cell_type": "code",
      "source": "df.boxplot()",
      "metadata": {
        "trusted": true
      },
      "execution_count": 15,
      "outputs": [
        {
          "execution_count": 15,
          "output_type": "execute_result",
          "data": {
            "text/plain": "<AxesSubplot:title={'center':'rating'}>"
          },
          "metadata": {}
        }
      ]
    },
    {
      "cell_type": "code",
      "source": "",
      "metadata": {},
      "execution_count": null,
      "outputs": []
    }
  ]
}